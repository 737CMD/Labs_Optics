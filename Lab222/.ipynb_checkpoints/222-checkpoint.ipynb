{
 "cells": [
  {
   "cell_type": "code",
   "execution_count": 2,
   "id": "2791c05a-ed59-4b46-acd0-0aba118b016d",
   "metadata": {
    "tags": []
   },
   "outputs": [],
   "source": [
    "import numpy as np\n",
    "import pandas as pd\n",
    "import matplotlib.pyplot as plt\n",
    "from matplotlib.ticker import (AutoMinorLocator, MultipleLocator)\n",
    "from scipy import interpolate"
   ]
  },
  {
   "cell_type": "code",
   "execution_count": 6,
   "id": "d2e92d88-38e5-4aaf-8c86-579d0e672d60",
   "metadata": {},
   "outputs": [
    {
     "name": "stdout",
     "output_type": "stream",
     "text": [
      "[ 14.4       26.36388   35.0064    49.100688  54.72      79.63704\n",
      "  96.743808 115.3692   165.970944 169.948944]\n"
     ]
    }
   ],
   "source": [
    "#Измерения, основанные на сдвиге \n",
    "tau = np.array([10, 9, 8, 8.4, 7.6, 9.2, 9.6, 10, 12.8, 12.4])*10**(-6)\n",
    "nu = np.array([4, 8.137, 12.155, 16.237, 20, 24.045, 27.993, 32.047, 36.018, 38.071])*10**3\n",
    "fi = tau * nu * 2 * np.pi\n",
    "print(np.rad2deg(fi))"
   ]
  },
  {
   "cell_type": "code",
   "execution_count": 11,
   "id": "c07a8ed3-4d4e-4050-9a58-d455e38666b1",
   "metadata": {
    "tags": []
   },
   "outputs": [
    {
     "name": "stdout",
     "output_type": "stream",
     "text": [
      "[ 11.88115602  26.1789687   37.36831403  49.8808331   53.66394249\n",
      "  77.76124423 100.11541653 113.55646431 163.30025112 172.97962925]\n"
     ]
    }
   ],
   "source": [
    "sin = np.array([3.5/17, 7.5/17, 10.5/17.3, 13/17, 14.5/18, 17.2/17.6, -19/19.3, -16.5/18, -2.5/8.7, -11/90])\n",
    "fis = []\n",
    "for i in sin:\n",
    "    if np.arcsin(i) > 0:\n",
    "        fis.append(np.arcsin(i))\n",
    "    else:\n",
    "        fis.append(np.pi + np.arcsin(i))\n",
    "print(np.rad2deg(fis))"
   ]
  },
  {
   "cell_type": "code",
   "execution_count": null,
   "id": "f783546c-c615-4220-b41b-b2af3b55aee7",
   "metadata": {},
   "outputs": [],
   "source": []
  }
 ],
 "metadata": {
  "kernelspec": {
   "display_name": "Python 3 (ipykernel)",
   "language": "python",
   "name": "python3"
  },
  "language_info": {
   "codemirror_mode": {
    "name": "ipython",
    "version": 3
   },
   "file_extension": ".py",
   "mimetype": "text/x-python",
   "name": "python",
   "nbconvert_exporter": "python",
   "pygments_lexer": "ipython3",
   "version": "3.11.5"
  }
 },
 "nbformat": 4,
 "nbformat_minor": 5
}
