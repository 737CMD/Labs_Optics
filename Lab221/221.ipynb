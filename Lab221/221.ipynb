{
 "cells": [
  {
   "cell_type": "code",
   "execution_count": 10,
   "id": "a8de8072-22e9-4b6e-b415-d06daa1311f0",
   "metadata": {},
   "outputs": [],
   "source": [
    "import numpy as np\n",
    "import pandas as pd\n",
    "import matplotlib.pyplot as plt\n",
    "from matplotlib.ticker import (AutoMinorLocator, MultipleLocator)\n",
    "wl = 555 * 10**(-9)"
   ]
  },
  {
   "cell_type": "code",
   "execution_count": 25,
   "id": "c2981168-031d-4270-9991-fc64d2b1e4dd",
   "metadata": {
    "tags": []
   },
   "outputs": [],
   "source": [
    "def d(a,b, m = 1):\n",
    "    return m*wl/(np.sin(np.arctan(a/b)))"
   ]
  },
  {
   "cell_type": "code",
   "execution_count": 26,
   "id": "4ce321a9-633a-41b5-98ad-46376c0d3d58",
   "metadata": {},
   "outputs": [
    {
     "name": "stdout",
     "output_type": "stream",
     "text": [
      "[36.67434967 36.83276494 36.99759977]\n",
      "[9.29233983e-07 9.25800194e-07 9.22261550e-07]\n",
      "925.765242609262+-2.8465913118766784 нм\n"
     ]
    }
   ],
   "source": [
    "a = np.array([175, 185, 162])\n",
    "b = np.array([235, 247, 215])\n",
    "d1 = d(a,b)\n",
    "print(np.rad2deg(np.arctan(a/b)))\n",
    "print(d1)\n",
    "print(f\"{np.mean(d1)*10**9}+-{np.std(d1)*10**9} нм\")"
   ]
  },
  {
   "cell_type": "code",
   "execution_count": 27,
   "id": "61d5f778-5822-4b6c-b8ce-1fea92a6777c",
   "metadata": {
    "tags": []
   },
   "outputs": [
    {
     "name": "stdout",
     "output_type": "stream",
     "text": [
      "[0.00012858 0.00010981 0.00010249]\n",
      "113.62660577884854+-10.98531063850313 мкм\n"
     ]
    }
   ],
   "source": [
    "a = np.array([6, 7, 7.5])\n",
    "b = np.array([1390, 1385, 1385])\n",
    "dgor = d(a,b)\n",
    "print(dgor)\n",
    "print(f\"{np.mean(dgor)*10**6}+-{np.std(dgor)*10**6} мкм\")"
   ]
  },
  {
   "cell_type": "code",
   "execution_count": 28,
   "id": "173b08f7-2dea-4cf7-9f00-dead121b6127",
   "metadata": {
    "tags": []
   },
   "outputs": [
    {
     "name": "stdout",
     "output_type": "stream",
     "text": [
      "[1.09577261e-05 1.11138663e-05 1.11138663e-05]\n",
      "11.061819608923027+-0.07360519147839704 мкм\n"
     ]
    }
   ],
   "source": [
    "a = np.array([71, 65, 70])\n",
    "b = np.array([1400, 1300, 1400])\n",
    "d2 = d(a,b)\n",
    "print(d2)\n",
    "print(f\"{np.mean(d2)*10**6}+-{np.std(d2)*10**6} мкм\")"
   ]
  },
  {
   "cell_type": "code",
   "execution_count": 38,
   "id": "7bf33f3d-66af-41ea-a802-c19d173809c4",
   "metadata": {
    "tags": []
   },
   "outputs": [
    {
     "name": "stdout",
     "output_type": "stream",
     "text": [
      "[22.20693642 22.20693642 24.24360597 23.65831188 25.03043847 25.91002309]\n",
      "23.87604204094291+-1.3677260228470594 мкм\n"
     ]
    }
   ],
   "source": [
    "r1 = np.array([30, 33])\n",
    "r2 = np.array([55, 62])\n",
    "r3 = np.array([80, 85])\n",
    "b = np.array([1200, 1320])\n",
    "d3 = np.append(d(r1, b), [d(r2, b, 2), d(r3, b, 3)])\n",
    "print(d3*10**6)\n",
    "print(f\"{np.mean(d3)*10**6}+-{np.std(d3)*10**6} мкм\")"
   ]
  },
  {
   "cell_type": "code",
   "execution_count": 47,
   "id": "069d7d74-c2ab-43bf-917f-368da3791bc2",
   "metadata": {
    "tags": []
   },
   "outputs": [
    {
     "name": "stdout",
     "output_type": "stream",
     "text": [
      "0.04493786628477045\n",
      "0.008479775367936185\n"
     ]
    }
   ],
   "source": [
    "teta = (7-5)/(3650-1100)\n",
    "print(np.rad2deg(teta))\n",
    "print(np.rad2deg(1.2*wl/(0.0045)))"
   ]
  },
  {
   "cell_type": "code",
   "execution_count": 50,
   "id": "0a78ea31-add5-406e-8cfd-ea7859eb1890",
   "metadata": {
    "tags": []
   },
   "outputs": [
    {
     "name": "stdout",
     "output_type": "stream",
     "text": [
      "4.191293077419757\n",
      "15.816200292150025\n"
     ]
    }
   ],
   "source": [
    "l = 0.265\n",
    "I0 = 4.2\n",
    "Iopt = 1.6\n",
    "Dp = 10*np.log10(I0/Iopt)\n",
    "print(Dp)\n",
    "print(Dp/l)"
   ]
  },
  {
   "cell_type": "code",
   "execution_count": null,
   "id": "d360f1f3-176d-4e56-98cd-aa6e68e61811",
   "metadata": {},
   "outputs": [],
   "source": []
  }
 ],
 "metadata": {
  "kernelspec": {
   "display_name": "Python 3 (ipykernel)",
   "language": "python",
   "name": "python3"
  },
  "language_info": {
   "codemirror_mode": {
    "name": "ipython",
    "version": 3
   },
   "file_extension": ".py",
   "mimetype": "text/x-python",
   "name": "python",
   "nbconvert_exporter": "python",
   "pygments_lexer": "ipython3",
   "version": "3.11.5"
  }
 },
 "nbformat": 4,
 "nbformat_minor": 5
}
